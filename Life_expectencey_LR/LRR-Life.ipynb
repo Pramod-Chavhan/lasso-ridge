{
 "cells": [
  {
   "cell_type": "markdown",
   "metadata": {
    "id": "E-qv7OU8-L5Q"
   },
   "source": [
    "**Data of various countries and the factors affecting their Life expectancy has been recorded over past few decades. An analytics firm would like to know how it varies country wise and what other factors are influential in model building. Use your skills to analyze the data and build a Lasso and Ridge Regression model and also summarize the output of the model.**"
   ]
  },
  {
   "cell_type": "markdown",
   "metadata": {
    "id": "U3s1G9Xc0sRw"
   },
   "source": [
    "**Business Objective:- To predict the life expectancy of the peoples.**"
   ]
  },
  {
   "cell_type": "code",
   "execution_count": 1,
   "metadata": {
    "colab": {
     "base_uri": "https://localhost:8080/"
    },
    "id": "dqUWjPh7-G_9",
    "outputId": "7ea39551-3385-4451-bcce-8752ebd90201"
   },
   "outputs": [],
   "source": [
    "#lets import the required librarires\n",
    "import pandas as pd\n",
    "import numpy as np\n",
    "import matplotlib.pyplot as plt\n",
    "import seaborn as sns"
   ]
  },
  {
   "cell_type": "code",
   "execution_count": 2,
   "metadata": {
    "id": "sAL4KBm4-Ump"
   },
   "outputs": [
    {
     "name": "stdout",
     "output_type": "stream",
     "text": [
      "<class 'pandas.core.frame.DataFrame'>\n",
      "RangeIndex: 2938 entries, 0 to 2937\n",
      "Data columns (total 22 columns):\n",
      " #   Column                  Non-Null Count  Dtype  \n",
      "---  ------                  --------------  -----  \n",
      " 0   Country                 2938 non-null   object \n",
      " 1   Year                    2938 non-null   int64  \n",
      " 2   Status                  2938 non-null   object \n",
      " 3   Life_expectancy         2928 non-null   float64\n",
      " 4   Adult_Mortality         2928 non-null   float64\n",
      " 5   infant_deaths           2938 non-null   int64  \n",
      " 6   Alcohol                 2744 non-null   float64\n",
      " 7   percentage_expenditure  2938 non-null   float64\n",
      " 8   Hepatitis_B             2385 non-null   float64\n",
      " 9   Measles                 2938 non-null   int64  \n",
      " 10  BMI                     2904 non-null   float64\n",
      " 11  under_five_deaths       2938 non-null   int64  \n",
      " 12  Polio                   2919 non-null   float64\n",
      " 13  Total_expenditure       2712 non-null   float64\n",
      " 14  Diphtheria              2919 non-null   float64\n",
      " 15  HIV_AIDS                2938 non-null   float64\n",
      " 16  GDP                     2490 non-null   float64\n",
      " 17  Population              2286 non-null   float64\n",
      " 18  thinness                2904 non-null   float64\n",
      " 19  thinness_yr             2904 non-null   float64\n",
      " 20  Income_composition      2771 non-null   float64\n",
      " 21  Schooling               2775 non-null   float64\n",
      "dtypes: float64(16), int64(4), object(2)\n",
      "memory usage: 505.1+ KB\n"
     ]
    }
   ],
   "source": [
    "# loading the data\n",
    "life= pd.read_csv(r\"C:\\Users\\D\\Desktop\\New Assignments  Keys\\Datasets\\Life_expectencey_LR.csv\")\n",
    "life.info()"
   ]
  },
  {
   "cell_type": "markdown",
   "metadata": {},
   "source": [
    "###### Life expectancy is the target variable"
   ]
  },
  {
   "cell_type": "code",
   "execution_count": 3,
   "metadata": {},
   "outputs": [
    {
     "data": {
      "text/plain": [
       "Country                     0\n",
       "Year                        0\n",
       "Status                      0\n",
       "Life_expectancy            10\n",
       "Adult_Mortality            10\n",
       "infant_deaths               0\n",
       "Alcohol                   194\n",
       "percentage_expenditure      0\n",
       "Hepatitis_B               553\n",
       "Measles                     0\n",
       "BMI                        34\n",
       "under_five_deaths           0\n",
       "Polio                      19\n",
       "Total_expenditure         226\n",
       "Diphtheria                 19\n",
       "HIV_AIDS                    0\n",
       "GDP                       448\n",
       "Population                652\n",
       "thinness                   34\n",
       "thinness_yr                34\n",
       "Income_composition        167\n",
       "Schooling                 163\n",
       "dtype: int64"
      ]
     },
     "execution_count": 3,
     "metadata": {},
     "output_type": "execute_result"
    }
   ],
   "source": [
    "life.isna().sum()"
   ]
  },
  {
   "cell_type": "code",
   "execution_count": 4,
   "metadata": {},
   "outputs": [],
   "source": [
    "# lot of variables have missing values\n",
    "\n",
    "missing = life.isna().sum()[life.isna().sum() != 0] / life.shape[0]\n",
    "# some columns have very high missing values, let us delete them\n",
    "\n",
    "high_missing_val = missing[(life.isna().sum()[life.isna().sum() != 0] / life.shape[0])>0.01].index.tolist()\n",
    "\n",
    "life.drop(high_missing_val, axis = 1, inplace = True)"
   ]
  },
  {
   "cell_type": "code",
   "execution_count": 5,
   "metadata": {},
   "outputs": [
    {
     "data": {
      "text/plain": [
       "['Alcohol',\n",
       " 'Hepatitis_B',\n",
       " 'BMI',\n",
       " 'Total_expenditure',\n",
       " 'GDP',\n",
       " 'Population',\n",
       " 'thinness',\n",
       " 'thinness_yr',\n",
       " 'Income_composition',\n",
       " 'Schooling']"
      ]
     },
     "execution_count": 5,
     "metadata": {},
     "output_type": "execute_result"
    }
   ],
   "source": [
    "high_missing_val"
   ]
  },
  {
   "cell_type": "code",
   "execution_count": 6,
   "metadata": {},
   "outputs": [
    {
     "data": {
      "text/plain": [
       "Country                    0\n",
       "Year                       0\n",
       "Status                     0\n",
       "Life_expectancy           10\n",
       "Adult_Mortality           10\n",
       "infant_deaths              0\n",
       "percentage_expenditure     0\n",
       "Measles                    0\n",
       "under_five_deaths          0\n",
       "Polio                     19\n",
       "Diphtheria                19\n",
       "HIV_AIDS                   0\n",
       "dtype: int64"
      ]
     },
     "execution_count": 6,
     "metadata": {},
     "output_type": "execute_result"
    }
   ],
   "source": [
    "life.isna().sum()"
   ]
  },
  {
   "cell_type": "code",
   "execution_count": 7,
   "metadata": {},
   "outputs": [
    {
     "data": {
      "text/plain": [
       "(Afghanistan              16\n",
       " Peru                     16\n",
       " Nicaragua                16\n",
       " Niger                    16\n",
       " Nigeria                  16\n",
       "                          ..\n",
       " Niue                      1\n",
       " San Marino                1\n",
       " Nauru                     1\n",
       " Saint Kitts and Nevis     1\n",
       " Dominica                  1\n",
       " Name: Country, Length: 193, dtype: int64,\n",
       " 2013    193\n",
       " 2015    183\n",
       " 2014    183\n",
       " 2012    183\n",
       " 2011    183\n",
       " 2010    183\n",
       " 2009    183\n",
       " 2008    183\n",
       " 2007    183\n",
       " 2006    183\n",
       " 2005    183\n",
       " 2004    183\n",
       " 2003    183\n",
       " 2002    183\n",
       " 2001    183\n",
       " 2000    183\n",
       " Name: Year, dtype: int64,\n",
       " Developing    2426\n",
       " Developed      512\n",
       " Name: Status, dtype: int64)"
      ]
     },
     "execution_count": 7,
     "metadata": {},
     "output_type": "execute_result"
    }
   ],
   "source": [
    "# exploring categorical columns\n",
    "\n",
    "life['Country'].value_counts(),life['Year'].value_counts(),life['Status'].value_counts()"
   ]
  },
  {
   "cell_type": "code",
   "execution_count": 8,
   "metadata": {},
   "outputs": [
    {
     "data": {
      "image/png": "[encoded data removed]",
      "text/plain": [
       "<Figure size 432x288 with 1 Axes>"
      ]
     },
     "metadata": {
      "needs_background": "light"
     },
     "output_type": "display_data"
    },
    {
     "data": {
      "image/png": "[encoded data removed]",
      "text/plain": [
       "<Figure size 432x288 with 1 Axes>"
      ]
     },
     "metadata": {
      "needs_background": "light"
     },
     "output_type": "display_data"
    },
    {
     "data": {
      "image/png": "[encoded data removed]",
      "text/plain": [
       "<Figure size 432x288 with 1 Axes>"
      ]
     },
     "metadata": {
      "needs_background": "light"
     },
     "output_type": "display_data"
    }
   ],
   "source": [
    "sns.boxplot(x = 'Country', y = 'Life_expectancy', data = life);plt.show()\n",
    "sns.boxplot(x = 'Year', y = 'Life_expectancy', data = life);plt.show()\n",
    "sns.boxplot(x = 'Status', y = 'Life_expectancy', data = life);plt.show()"
   ]
  },
  {
   "cell_type": "code",
   "execution_count": 9,
   "metadata": {},
   "outputs": [],
   "source": [
    "# country has too much variance, we can drop it\n",
    "life.drop('Country', axis = 1, inplace = True)"
   ]
  },
  {
   "cell_type": "code",
   "execution_count": 10,
   "metadata": {},
   "outputs": [
    {
     "data": {
      "text/plain": [
       "(Year                       0\n",
       " Status                     0\n",
       " Adult_Mortality           10\n",
       " infant_deaths              0\n",
       " percentage_expenditure     0\n",
       " Measles                    0\n",
       " under_five_deaths          0\n",
       " Polio                     19\n",
       " Diphtheria                19\n",
       " HIV_AIDS                   0\n",
       " dtype: int64,\n",
       " 10)"
      ]
     },
     "execution_count": 10,
     "metadata": {},
     "output_type": "execute_result"
    }
   ],
   "source": [
    "X = life.drop('Life_expectancy', axis = 1)\n",
    "y = life['Life_expectancy']\n",
    "X.isna().sum(),y.isna().sum()"
   ]
  },
  {
   "cell_type": "code",
   "execution_count": 11,
   "metadata": {},
   "outputs": [],
   "source": [
    "num_var = [col for col in X.select_dtypes(np.number)]\n",
    "#we have missing values let us replcae them with median\n",
    "\n",
    "for col in X[num_var].columns:\n",
    "    X[col].fillna(X[col].median(), inplace = True)\n",
    "\n",
    "y.fillna(y.median(), inplace = True)"
   ]
  },
  {
   "cell_type": "code",
   "execution_count": 12,
   "metadata": {},
   "outputs": [],
   "source": [
    "# scaling numeric columns\n",
    "from sklearn.preprocessing import StandardScaler\n",
    "\n",
    "scaler = StandardScaler()\n",
    "scaler.fit(X[num_var])\n",
    "\n",
    "scaled_X = pd.concat([pd.DataFrame(scaler.transform(X[num_var]), columns = num_var), X['Status']], axis = 1)\n",
    "\n",
    "# creating dummy variables\n",
    "\n",
    "scaled_X = pd.get_dummies(data=scaled_X, columns = ['Status'], drop_first = True)"
   ]
  },
  {
   "cell_type": "code",
   "execution_count": 13,
   "metadata": {},
   "outputs": [],
   "source": [
    "# ## Train - test Split\n",
    "from sklearn.model_selection import train_test_split\n",
    "X_train, X_test, y_train, y_test = train_test_split(scaled_X, y, test_size=0.25, random_state=0)"
   ]
  },
  {
   "cell_type": "code",
   "execution_count": 14,
   "metadata": {},
   "outputs": [],
   "source": [
    "# building base model first\n",
    "from sklearn.linear_model import LinearRegression\n",
    "\n",
    "model = LinearRegression()\n",
    "model.fit(X_train,y_train)\n",
    "\n",
    "train_pred = model.predict(X_train)\n",
    "test_pred = model.predict(X_test)"
   ]
  },
  {
   "cell_type": "code",
   "execution_count": 15,
   "metadata": {},
   "outputs": [
    {
     "name": "stdout",
     "output_type": "stream",
     "text": [
      "Test RMSE 5.117138996133059\n",
      "Test R-Squared 0.7206293364041971\n",
      "Train RMSE 4.904842161244955\n",
      "Train R-SquaredE 0.730443441207912\n"
     ]
    }
   ],
   "source": [
    "from sklearn.metrics import r2_score, mean_squared_error\n",
    "\n",
    "print('Test RMSE',np.sqrt(mean_squared_error(y_test,test_pred)))\n",
    "# RMSE of 4.03 on test dataset\n",
    "print('Test R-Squared',r2_score(y_test,test_pred))\n",
    "# R square of 82.5% on test dataset\n",
    "\n",
    "print('Train RMSE',np.sqrt(mean_squared_error(y_train,train_pred)))\n",
    "# RMSE of 4.07 on train dataset\n",
    "print('Train R-SquaredE',r2_score(y_train,train_pred))\n",
    "# R square of 81.4% on test dataset"
   ]
  },
  {
   "cell_type": "code",
   "execution_count": 16,
   "metadata": {},
   "outputs": [
    {
     "data": {
      "text/plain": [
       "1.0"
      ]
     },
     "execution_count": 16,
     "metadata": {},
     "output_type": "execute_result"
    }
   ],
   "source": [
    "#### Now we will use Elastic Net as it combines the penalties of ridge regression and lasso regreesion\n",
    "\n",
    "from sklearn.linear_model import ElasticNetCV\n",
    "\n",
    "elastic_model = ElasticNetCV(l1_ratio=[.1, .5, .7,.9, .95, .99, 1],tol=0.01)\n",
    "\n",
    "elastic_model.fit(X_train,y_train)\n",
    "\n",
    "elastic_model.l1_ratio_\n",
    "# elastic model selected the l1 ratio as 1 which means 100% lasso, which means ridge is not preferred for this case\n",
    "# as some variables could be totally useless"
   ]
  },
  {
   "cell_type": "code",
   "execution_count": 17,
   "metadata": {},
   "outputs": [
    {
     "name": "stdout",
     "output_type": "stream",
     "text": [
      "Test RMSE 5.122397051674861\n",
      "Test R-Squared 0.720054913404816\n",
      "Train RMSE 4.909103802290017\n",
      "Train R-Squared 0.7299748217040196\n"
     ]
    }
   ],
   "source": [
    "test_predictions_en = elastic_model.predict(X_test)\n",
    "train_predictions_en = elastic_model.predict(X_train)\n",
    "\n",
    "\n",
    "print('Test RMSE',np.sqrt(mean_squared_error(y_test,test_predictions_en)))\n",
    "# RMSE of 4.04 on test dataset\n",
    "print('Test R-Squared',r2_score(y_test,test_predictions_en))\n",
    "# R square of 82.5% on test dataset\n",
    "\n",
    "print('Train RMSE',np.sqrt(mean_squared_error(y_train,train_predictions_en)))\n",
    "# RMSE of 4.07 on train dataset\n",
    "print('Train R-Squared',r2_score(y_train,train_predictions_en))\n",
    "# R square of 81.3% on test dataset"
   ]
  },
  {
   "cell_type": "code",
   "execution_count": 18,
   "metadata": {},
   "outputs": [
    {
     "data": {
      "image/png": "[encoded data removed]",
      "text/plain": [
       "<Figure size 432x288 with 1 Axes>"
      ]
     },
     "metadata": {
      "needs_background": "light"
     },
     "output_type": "display_data"
    }
   ],
   "source": [
    "## Model is right and good fit with no drop in performance vs base model\n",
    "\n",
    "from scipy import stats\n",
    "# Q-Q plot of errors\n",
    "res = y_test - test_predictions_en\n",
    "stats.probplot(res, dist = \"norm\", plot = plt)\n",
    "plt.show()"
   ]
  },
  {
   "cell_type": "markdown",
   "metadata": {},
   "source": [
    "errors seem to be normally distributed - model is ok"
   ]
  },
  {
   "cell_type": "code",
   "execution_count": 19,
   "metadata": {},
   "outputs": [
    {
     "name": "stdout",
     "output_type": "stream",
     "text": [
      "[(0.5346197584627864, 'Year'), (-3.5267067288790495, 'Adult_Mortality'), (12.596753567471023, 'infant_deaths'), (1.2150657949011352, 'percentage_expenditure'), (-0.37862081417904003, 'Measles'), (-13.267798678609948, 'under_five_deaths'), (1.186686275167722, 'Polio'), (1.208646027827539, 'Diphtheria'), (-2.248683340157221, 'HIV_AIDS'), (-4.797149275257941, 'Status_Developing')]\n"
     ]
    }
   ],
   "source": [
    "## Cheking the selected features\n",
    "\n",
    "elastic_model.coef_\n",
    "\n",
    "print(list(zip(elastic_model.coef_, X_train.columns)))"
   ]
  },
  {
   "cell_type": "markdown",
   "metadata": {},
   "source": [
    "###### coef is huge for infant_deaths, under_5_deaths"
   ]
  }
 ],
 "metadata": {
  "colab": {
   "name": "Life_LRR.ipynb",
   "provenance": []
  },
  "kernelspec": {
   "display_name": "Python 3 (ipykernel)",
   "language": "python",
   "name": "python3"
  },
  "language_info": {
   "codemirror_mode": {
    "name": "ipython",
    "version": 3
   },
   "file_extension": ".py",
   "mimetype": "text/x-python",
   "name": "python",
   "nbconvert_exporter": "python",
   "pygments_lexer": "ipython3",
   "version": "3.9.7"
  }
 },
 "nbformat": 4,
 "nbformat_minor": 1
}
